{
 "cells": [
  {
   "cell_type": "markdown",
   "id": "ed803258",
   "metadata": {},
   "source": [
    "# Objective:\n",
    "\n",
    "Zomato is a worldwide Indian restaurant aggregator and food delivery service that offers information on restaurants, menus, and customer reviews in addition to food delivery choices from partner restaurants in a few cities.\n",
    "\n",
    "Bangalore is home to restaurants from all over the world, and more are opening there every day. They now find it challenging to compete with restaurants that have already achieved success. The main problems that they continue to face include high real estate prices, rising food prices, a disjointed supply chain, excessive licencing, etc.\n",
    "\n",
    "The goal of this project is to estimate the cost for two guests at a time, so that recently opened and prospective restaurants will know how much money to invest in other stuff like ambiance and customer service"
   ]
  },
  {
   "cell_type": "markdown",
   "id": "f20d6f86",
   "metadata": {},
   "source": [
    "## Approach"
   ]
  },
  {
   "cell_type": "markdown",
   "id": "2cb2704f",
   "metadata": {},
   "source": [
    "Content:\n",
    "\n",
    "1. Data Cleaning\n",
    "   \n",
    "   1.1. Drop redundant and unwanted columns\n",
    "\n",
    "   1.2. Handling Null values\n",
    "\n",
    "   1.3. Remove special characters\n",
    "\n",
    "2. EDA\n",
    "\n",
    "   2.1. Visualizations\n",
    "\n",
    "   2.2. Outliers\n",
    "\n",
    "\n",
    "3. Model Building\n",
    "\n",
    "   3.1. Linear Regression\n",
    "    \n",
    "   3.2. Lasso\n",
    "  \n",
    "   3.3. Ridge\n",
    "\n",
    "   3.4. Elastinet\n",
    "\n",
    "   3.5. Decision Tree Regressor\n",
    "\n",
    "   3.6. Random Forest Regressor\n",
    "\n",
    "4. Conclusion"
   ]
  },
  {
   "cell_type": "markdown",
   "id": "658329ac",
   "metadata": {},
   "source": [
    "### Understanding the dataset"
   ]
  },
  {
   "cell_type": "code",
   "execution_count": 1,
   "id": "b03cd9e1",
   "metadata": {},
   "outputs": [],
   "source": [
    "import numpy as np\n",
    "import pandas as pd\n",
    "import statsmodels.stats as stats\n",
    "import seaborn as sns\n",
    "import matplotlib.pyplot as plt\n",
    "import warnings\n",
    "warnings.filterwarnings('ignore')"
   ]
  },
  {
   "cell_type": "code",
   "execution_count": 2,
   "id": "f39737cb",
   "metadata": {},
   "outputs": [
    {
     "data": {
      "text/html": [
       "<div>\n",
       "<style scoped>\n",
       "    .dataframe tbody tr th:only-of-type {\n",
       "        vertical-align: middle;\n",
       "    }\n",
       "\n",
       "    .dataframe tbody tr th {\n",
       "        vertical-align: top;\n",
       "    }\n",
       "\n",
       "    .dataframe thead th {\n",
       "        text-align: right;\n",
       "    }\n",
       "</style>\n",
       "<table border=\"1\" class=\"dataframe\">\n",
       "  <thead>\n",
       "    <tr style=\"text-align: right;\">\n",
       "      <th></th>\n",
       "      <th>url</th>\n",
       "      <th>address</th>\n",
       "      <th>name</th>\n",
       "      <th>online_order</th>\n",
       "      <th>book_table</th>\n",
       "      <th>rate</th>\n",
       "      <th>votes</th>\n",
       "      <th>phone</th>\n",
       "      <th>location</th>\n",
       "      <th>rest_type</th>\n",
       "      <th>dish_liked</th>\n",
       "      <th>cuisines</th>\n",
       "      <th>approx_cost(for two people)</th>\n",
       "      <th>reviews_list</th>\n",
       "      <th>menu_item</th>\n",
       "      <th>listed_in(type)</th>\n",
       "      <th>listed_in(city)</th>\n",
       "    </tr>\n",
       "  </thead>\n",
       "  <tbody>\n",
       "    <tr>\n",
       "      <th>0</th>\n",
       "      <td>https://www.zomato.com/bangalore/jalsa-banasha...</td>\n",
       "      <td>942, 21st Main Road, 2nd Stage, Banashankari, ...</td>\n",
       "      <td>Jalsa</td>\n",
       "      <td>Yes</td>\n",
       "      <td>Yes</td>\n",
       "      <td>4.1/5</td>\n",
       "      <td>775</td>\n",
       "      <td>080 42297555\\r\\n+91 9743772233</td>\n",
       "      <td>Banashankari</td>\n",
       "      <td>Casual Dining</td>\n",
       "      <td>Pasta, Lunch Buffet, Masala Papad, Paneer Laja...</td>\n",
       "      <td>North Indian, Mughlai, Chinese</td>\n",
       "      <td>800</td>\n",
       "      <td>[('Rated 4.0', 'RATED\\n  A beautiful place to ...</td>\n",
       "      <td>[]</td>\n",
       "      <td>Buffet</td>\n",
       "      <td>Banashankari</td>\n",
       "    </tr>\n",
       "    <tr>\n",
       "      <th>1</th>\n",
       "      <td>https://www.zomato.com/bangalore/spice-elephan...</td>\n",
       "      <td>2nd Floor, 80 Feet Road, Near Big Bazaar, 6th ...</td>\n",
       "      <td>Spice Elephant</td>\n",
       "      <td>Yes</td>\n",
       "      <td>No</td>\n",
       "      <td>4.1/5</td>\n",
       "      <td>787</td>\n",
       "      <td>080 41714161</td>\n",
       "      <td>Banashankari</td>\n",
       "      <td>Casual Dining</td>\n",
       "      <td>Momos, Lunch Buffet, Chocolate Nirvana, Thai G...</td>\n",
       "      <td>Chinese, North Indian, Thai</td>\n",
       "      <td>800</td>\n",
       "      <td>[('Rated 4.0', 'RATED\\n  Had been here for din...</td>\n",
       "      <td>[]</td>\n",
       "      <td>Buffet</td>\n",
       "      <td>Banashankari</td>\n",
       "    </tr>\n",
       "  </tbody>\n",
       "</table>\n",
       "</div>"
      ],
      "text/plain": [
       "                                                 url  \\\n",
       "0  https://www.zomato.com/bangalore/jalsa-banasha...   \n",
       "1  https://www.zomato.com/bangalore/spice-elephan...   \n",
       "\n",
       "                                             address            name  \\\n",
       "0  942, 21st Main Road, 2nd Stage, Banashankari, ...           Jalsa   \n",
       "1  2nd Floor, 80 Feet Road, Near Big Bazaar, 6th ...  Spice Elephant   \n",
       "\n",
       "  online_order book_table   rate  votes                           phone  \\\n",
       "0          Yes        Yes  4.1/5    775  080 42297555\\r\\n+91 9743772233   \n",
       "1          Yes         No  4.1/5    787                    080 41714161   \n",
       "\n",
       "       location      rest_type  \\\n",
       "0  Banashankari  Casual Dining   \n",
       "1  Banashankari  Casual Dining   \n",
       "\n",
       "                                          dish_liked  \\\n",
       "0  Pasta, Lunch Buffet, Masala Papad, Paneer Laja...   \n",
       "1  Momos, Lunch Buffet, Chocolate Nirvana, Thai G...   \n",
       "\n",
       "                         cuisines approx_cost(for two people)  \\\n",
       "0  North Indian, Mughlai, Chinese                         800   \n",
       "1     Chinese, North Indian, Thai                         800   \n",
       "\n",
       "                                        reviews_list menu_item  \\\n",
       "0  [('Rated 4.0', 'RATED\\n  A beautiful place to ...        []   \n",
       "1  [('Rated 4.0', 'RATED\\n  Had been here for din...        []   \n",
       "\n",
       "  listed_in(type) listed_in(city)  \n",
       "0          Buffet    Banashankari  \n",
       "1          Buffet    Banashankari  "
      ]
     },
     "execution_count": 2,
     "metadata": {},
     "output_type": "execute_result"
    }
   ],
   "source": [
    "df=pd.read_csv('zomato.csv')\n",
    "df.head(2)"
   ]
  },
  {
   "cell_type": "code",
   "execution_count": 3,
   "id": "e2b30c66",
   "metadata": {},
   "outputs": [
    {
     "data": {
      "text/plain": [
       "url                            object\n",
       "address                        object\n",
       "name                           object\n",
       "online_order                   object\n",
       "book_table                     object\n",
       "rate                           object\n",
       "votes                           int64\n",
       "phone                          object\n",
       "location                       object\n",
       "rest_type                      object\n",
       "dish_liked                     object\n",
       "cuisines                       object\n",
       "approx_cost(for two people)    object\n",
       "reviews_list                   object\n",
       "menu_item                      object\n",
       "listed_in(type)                object\n",
       "listed_in(city)                object\n",
       "dtype: object"
      ]
     },
     "execution_count": 3,
     "metadata": {},
     "output_type": "execute_result"
    }
   ],
   "source": [
    "df.dtypes"
   ]
  },
  {
   "cell_type": "code",
   "execution_count": 4,
   "id": "b217351d",
   "metadata": {},
   "outputs": [
    {
     "data": {
      "text/plain": [
       "(51717, 17)"
      ]
     },
     "execution_count": 4,
     "metadata": {},
     "output_type": "execute_result"
    }
   ],
   "source": [
    "df.shape"
   ]
  },
  {
   "cell_type": "code",
   "execution_count": 5,
   "id": "459c6c32",
   "metadata": {},
   "outputs": [
    {
     "name": "stdout",
     "output_type": "stream",
     "text": [
      "<class 'pandas.core.frame.DataFrame'>\n",
      "RangeIndex: 51717 entries, 0 to 51716\n",
      "Data columns (total 17 columns):\n",
      " #   Column                       Non-Null Count  Dtype \n",
      "---  ------                       --------------  ----- \n",
      " 0   url                          51717 non-null  object\n",
      " 1   address                      51717 non-null  object\n",
      " 2   name                         51717 non-null  object\n",
      " 3   online_order                 51717 non-null  object\n",
      " 4   book_table                   51717 non-null  object\n",
      " 5   rate                         43942 non-null  object\n",
      " 6   votes                        51717 non-null  int64 \n",
      " 7   phone                        50509 non-null  object\n",
      " 8   location                     51696 non-null  object\n",
      " 9   rest_type                    51490 non-null  object\n",
      " 10  dish_liked                   23639 non-null  object\n",
      " 11  cuisines                     51672 non-null  object\n",
      " 12  approx_cost(for two people)  51371 non-null  object\n",
      " 13  reviews_list                 51717 non-null  object\n",
      " 14  menu_item                    51717 non-null  object\n",
      " 15  listed_in(type)              51717 non-null  object\n",
      " 16  listed_in(city)              51717 non-null  object\n",
      "dtypes: int64(1), object(16)\n",
      "memory usage: 6.7+ MB\n"
     ]
    }
   ],
   "source": [
    "df.info()"
   ]
  },
  {
   "cell_type": "markdown",
   "id": "c0aa7b63",
   "metadata": {},
   "source": [
    "## 1.Data Cleaning"
   ]
  },
  {
   "cell_type": "markdown",
   "id": "88acb4fa",
   "metadata": {},
   "source": [
    "### 1.1.Drop redundant and unwanted columns"
   ]
  },
  {
   "cell_type": "code",
   "execution_count": 6,
   "id": "323a80fe",
   "metadata": {},
   "outputs": [],
   "source": [
    "df=df.drop(['url','address','name','phone','rest_type','dish_liked','reviews_list','menu_item'],axis=1)"
   ]
  },
  {
   "cell_type": "code",
   "execution_count": 7,
   "id": "c5cff0c7",
   "metadata": {},
   "outputs": [],
   "source": [
    "# URL,Name,Address and Phone are not useful in predicting cost.\n",
    "# Dish_liked,reviews_list and menu_items will increase the complexity of the process due to too many elements in them.\n",
    "# Listed_in(city) "
   ]
  },
  {
   "cell_type": "markdown",
   "id": "e99da62f",
   "metadata": {},
   "source": [
    "### 1.2.Remove null values"
   ]
  },
  {
   "cell_type": "code",
   "execution_count": 8,
   "id": "d40574e7",
   "metadata": {},
   "outputs": [
    {
     "data": {
      "text/plain": [
       "online_order                    0.000000\n",
       "book_table                      0.000000\n",
       "rate                           15.033741\n",
       "votes                           0.000000\n",
       "location                        0.040606\n",
       "cuisines                        0.087012\n",
       "approx_cost(for two people)     0.669026\n",
       "listed_in(type)                 0.000000\n",
       "listed_in(city)                 0.000000\n",
       "dtype: float64"
      ]
     },
     "execution_count": 8,
     "metadata": {},
     "output_type": "execute_result"
    }
   ],
   "source": [
    "df.isnull().sum()/len(df)*100"
   ]
  },
  {
   "cell_type": "code",
   "execution_count": 9,
   "id": "2aab5c92",
   "metadata": {},
   "outputs": [],
   "source": [
    "df['rate']=df['rate'].fillna(df['rate'].mode()[0])"
   ]
  },
  {
   "cell_type": "code",
   "execution_count": 10,
   "id": "7702229e",
   "metadata": {},
   "outputs": [],
   "source": [
    "df=df.dropna()\n",
    "\n",
    "# Since the null values in other columns are very few in number it is advised it drop them raather than imputing them with a value."
   ]
  },
  {
   "cell_type": "code",
   "execution_count": 11,
   "id": "0a941c01",
   "metadata": {},
   "outputs": [
    {
     "data": {
      "text/plain": [
       "online_order                   0.0\n",
       "book_table                     0.0\n",
       "rate                           0.0\n",
       "votes                          0.0\n",
       "location                       0.0\n",
       "cuisines                       0.0\n",
       "approx_cost(for two people)    0.0\n",
       "listed_in(type)                0.0\n",
       "listed_in(city)                0.0\n",
       "dtype: float64"
      ]
     },
     "execution_count": 11,
     "metadata": {},
     "output_type": "execute_result"
    }
   ],
   "source": [
    "df.isnull().sum()/len(df)*100"
   ]
  },
  {
   "cell_type": "code",
   "execution_count": 12,
   "id": "8480fe74",
   "metadata": {},
   "outputs": [
    {
     "data": {
      "text/plain": [
       "(50812, 9)"
      ]
     },
     "execution_count": 12,
     "metadata": {},
     "output_type": "execute_result"
    }
   ],
   "source": [
    "df.drop_duplicates(inplace=True)\n",
    "df.shape"
   ]
  },
  {
   "cell_type": "code",
   "execution_count": 13,
   "id": "7516b0c3",
   "metadata": {},
   "outputs": [
    {
     "data": {
      "text/plain": [
       "(50812, 9)"
      ]
     },
     "execution_count": 13,
     "metadata": {},
     "output_type": "execute_result"
    }
   ],
   "source": [
    "df.shape\n",
    "\n",
    "# It does not have any duplicates."
   ]
  },
  {
   "cell_type": "markdown",
   "id": "28b61dcd",
   "metadata": {},
   "source": [
    "### 1.3.Remove the special characters"
   ]
  },
  {
   "cell_type": "code",
   "execution_count": 14,
   "id": "f3455dc2",
   "metadata": {},
   "outputs": [],
   "source": [
    "df['rate']=df['rate'].apply(lambda x:str(x).split('/')[0])"
   ]
  },
  {
   "cell_type": "code",
   "execution_count": 15,
   "id": "bd72b8f2",
   "metadata": {},
   "outputs": [
    {
     "data": {
      "text/plain": [
       "online_order                   object\n",
       "book_table                     object\n",
       "rate                           object\n",
       "votes                           int64\n",
       "location                       object\n",
       "cuisines                       object\n",
       "approx_cost(for two people)    object\n",
       "listed_in(type)                object\n",
       "listed_in(city)                object\n",
       "dtype: object"
      ]
     },
     "execution_count": 15,
     "metadata": {},
     "output_type": "execute_result"
    }
   ],
   "source": [
    "df.dtypes"
   ]
  },
  {
   "cell_type": "code",
   "execution_count": 16,
   "id": "ed441f2a",
   "metadata": {},
   "outputs": [
    {
     "name": "stdout",
     "output_type": "stream",
     "text": [
      "original values: ['4.1' '3.8' '3.7' '3.6' '4.6' '4.0' '4.2' '3.9' '3.1' '3.0' '3.2' '3.3'\n",
      " '2.8' '4.4' '4.3' 'NEW' '2.9' '3.5' '2.6' '3.8 ' '3.4' '4.5' '2.5' '2.7'\n",
      " '4.7' '2.4' '2.2' '2.3' '3.4 ' '-' '3.6 ' '4.8' '3.9 ' '4.2 ' '4.0 '\n",
      " '4.1 ' '3.7 ' '3.1 ' '2.9 ' '3.3 ' '2.8 ' '3.5 ' '2.7 ' '2.5 ' '3.2 '\n",
      " '2.6 ' '4.5 ' '4.3 ' '4.4 ' '4.9' '2.1' '2.0' '1.8' '4.6 ' '4.9 ' '3.0 '\n",
      " '4.8 ' '2.3 ' '4.7 ' '2.4 ' '2.1 ' '2.2 ' '2.0 ' '1.8 ']\n",
      "new values: ['4.1' '3.8' '3.7' '3.6' '4.6' '4.0' '4.2' '3.9' '3.1' '3.0' '3.2' '3.3'\n",
      " '2.8' '4.4' '4.3' 0 '2.9' '3.5' '2.6' '3.8 ' '3.4' '4.5' '2.5' '2.7'\n",
      " '4.7' '2.4' '2.2' '2.3' '3.4 ' '3.6 ' '4.8' '3.9 ' '4.2 ' '4.0 ' '4.1 '\n",
      " '3.7 ' '3.1 ' '2.9 ' '3.3 ' '2.8 ' '3.5 ' '2.7 ' '2.5 ' '3.2 ' '2.6 '\n",
      " '4.5 ' '4.3 ' '4.4 ' '4.9' '2.1' '2.0' '1.8' '4.6 ' '4.9 ' '3.0 ' '4.8 '\n",
      " '2.3 ' '4.7 ' '2.4 ' '2.1 ' '2.2 ' '2.0 ' '1.8 ']\n"
     ]
    },
    {
     "data": {
      "text/plain": [
       "dtype('float64')"
      ]
     },
     "execution_count": 16,
     "metadata": {},
     "output_type": "execute_result"
    }
   ],
   "source": [
    "print('original values:',df['rate'].unique())\n",
    "\n",
    "df['rate'].apply(lambda x:str(x).replace(' ',''))\n",
    "df['rate'].replace(to_replace=['NEW','-'],value=[0,0],inplace=True)\n",
    "\n",
    "print('new values:',df['rate'].unique())\n",
    "\n",
    "df['rate']=df['rate'].astype(float)\n",
    "df['rate'].dtypes"
   ]
  },
  {
   "cell_type": "code",
   "execution_count": 17,
   "id": "06c10f44",
   "metadata": {},
   "outputs": [
    {
     "data": {
      "text/plain": [
       "3.6"
      ]
     },
     "execution_count": 17,
     "metadata": {},
     "output_type": "execute_result"
    }
   ],
   "source": [
    "df['rate'].median()"
   ]
  },
  {
   "cell_type": "code",
   "execution_count": 18,
   "id": "d3fe67e5",
   "metadata": {},
   "outputs": [],
   "source": [
    "df['rate'].replace(to_replace=[0],value=[3.6],inplace=True)\n"
   ]
  },
  {
   "cell_type": "code",
   "execution_count": 19,
   "id": "fc9a9996",
   "metadata": {},
   "outputs": [
    {
     "name": "stdout",
     "output_type": "stream",
     "text": [
      "original values: ['800' '300' '600' '700' '550' '500' '450' '650' '400' '900' '200' '750'\n",
      " '150' '850' '100' '1,200' '350' '250' '950' '1,000' '1,500' '1,300' '199'\n",
      " '80' '1,100' '160' '1,600' '230' '130' '50' '190' '1,700' '1,400' '180'\n",
      " '1,350' '2,200' '2,000' '1,800' '1,900' '330' '2,500' '2,100' '3,000'\n",
      " '2,800' '3,400' '40' '1,250' '3,500' '4,000' '2,400' '2,600' '120'\n",
      " '1,450' '469' '70' '3,200' '60' '560' '240' '360' '6,000' '1,050' '2,300'\n",
      " '4,100' '5,000' '3,700' '1,650' '2,700' '4,500' '140']\n",
      "new values: ['800' '300' '600' '700' '550' '500' '450' '650' '400' '900' '200' '750'\n",
      " '150' '850' '100' '1200' '350' '250' '950' '1000' '1500' '1300' '199'\n",
      " '80' '1100' '160' '1600' '230' '130' '50' '190' '1700' '1400' '180'\n",
      " '1350' '2200' '2000' '1800' '1900' '330' '2500' '2100' '3000' '2800'\n",
      " '3400' '40' '1250' '3500' '4000' '2400' '2600' '120' '1450' '469' '70'\n",
      " '3200' '60' '560' '240' '360' '6000' '1050' '2300' '4100' '5000' '3700'\n",
      " '1650' '2700' '4500' '140']\n"
     ]
    },
    {
     "data": {
      "text/plain": [
       "dtype('float64')"
      ]
     },
     "execution_count": 19,
     "metadata": {},
     "output_type": "execute_result"
    }
   ],
   "source": [
    "print('original values:',df['approx_cost(for two people)'].unique())\n",
    "\n",
    "df['approx_cost(for two people)'].apply(lambda x:str(x).replace(' ',''))\n",
    "df['approx_cost(for two people)'].replace(to_replace=['NEW','-'],value=[0,0],inplace=True)\n",
    "df['approx_cost(for two people)']=df['approx_cost(for two people)'].replace(',','',regex=True)\n",
    "\n",
    "print('new values:',df['approx_cost(for two people)'].unique())\n",
    "\n",
    "df['approx_cost(for two people)']=df['approx_cost(for two people)'].astype(float)\n",
    "df['approx_cost(for two people)'].dtypes"
   ]
  },
  {
   "cell_type": "code",
   "execution_count": 20,
   "id": "7b00dd7f",
   "metadata": {},
   "outputs": [
    {
     "data": {
      "text/plain": [
       "online_order                    object\n",
       "book_table                      object\n",
       "rate                           float64\n",
       "votes                            int64\n",
       "location                        object\n",
       "cuisines                        object\n",
       "approx_cost(for two people)    float64\n",
       "listed_in(type)                 object\n",
       "listed_in(city)                 object\n",
       "dtype: object"
      ]
     },
     "execution_count": 20,
     "metadata": {},
     "output_type": "execute_result"
    }
   ],
   "source": [
    "df.dtypes"
   ]
  },
  {
   "cell_type": "markdown",
   "id": "436f6fb1",
   "metadata": {},
   "source": [
    "## 2.EDA"
   ]
  },
  {
   "cell_type": "markdown",
   "id": "02b0354e",
   "metadata": {},
   "source": [
    "### 2.1.Visualizations"
   ]
  },
  {
   "cell_type": "code",
   "execution_count": 21,
   "id": "84114675",
   "metadata": {},
   "outputs": [
    {
     "data": {
      "text/html": [
       "<div>\n",
       "<style scoped>\n",
       "    .dataframe tbody tr th:only-of-type {\n",
       "        vertical-align: middle;\n",
       "    }\n",
       "\n",
       "    .dataframe tbody tr th {\n",
       "        vertical-align: top;\n",
       "    }\n",
       "\n",
       "    .dataframe thead th {\n",
       "        text-align: right;\n",
       "    }\n",
       "</style>\n",
       "<table border=\"1\" class=\"dataframe\">\n",
       "  <thead>\n",
       "    <tr style=\"text-align: right;\">\n",
       "      <th></th>\n",
       "      <th>rate</th>\n",
       "      <th>votes</th>\n",
       "      <th>approx_cost(for two people)</th>\n",
       "    </tr>\n",
       "  </thead>\n",
       "  <tbody>\n",
       "    <tr>\n",
       "      <th>0</th>\n",
       "      <td>4.1</td>\n",
       "      <td>775</td>\n",
       "      <td>800.0</td>\n",
       "    </tr>\n",
       "    <tr>\n",
       "      <th>1</th>\n",
       "      <td>4.1</td>\n",
       "      <td>787</td>\n",
       "      <td>800.0</td>\n",
       "    </tr>\n",
       "  </tbody>\n",
       "</table>\n",
       "</div>"
      ],
      "text/plain": [
       "   rate  votes  approx_cost(for two people)\n",
       "0   4.1    775                        800.0\n",
       "1   4.1    787                        800.0"
      ]
     },
     "execution_count": 21,
     "metadata": {},
     "output_type": "execute_result"
    }
   ],
   "source": [
    "num = df.select_dtypes(include=np.number)\n",
    "num.head(2)"
   ]
  },
  {
   "cell_type": "code",
   "execution_count": 22,
   "id": "83fd9863",
   "metadata": {},
   "outputs": [
    {
     "data": {
      "text/html": [
       "<div>\n",
       "<style scoped>\n",
       "    .dataframe tbody tr th:only-of-type {\n",
       "        vertical-align: middle;\n",
       "    }\n",
       "\n",
       "    .dataframe tbody tr th {\n",
       "        vertical-align: top;\n",
       "    }\n",
       "\n",
       "    .dataframe thead th {\n",
       "        text-align: right;\n",
       "    }\n",
       "</style>\n",
       "<table border=\"1\" class=\"dataframe\">\n",
       "  <thead>\n",
       "    <tr style=\"text-align: right;\">\n",
       "      <th></th>\n",
       "      <th>online_order</th>\n",
       "      <th>book_table</th>\n",
       "      <th>location</th>\n",
       "      <th>cuisines</th>\n",
       "      <th>listed_in(type)</th>\n",
       "      <th>listed_in(city)</th>\n",
       "    </tr>\n",
       "  </thead>\n",
       "  <tbody>\n",
       "    <tr>\n",
       "      <th>0</th>\n",
       "      <td>Yes</td>\n",
       "      <td>Yes</td>\n",
       "      <td>Banashankari</td>\n",
       "      <td>North Indian, Mughlai, Chinese</td>\n",
       "      <td>Buffet</td>\n",
       "      <td>Banashankari</td>\n",
       "    </tr>\n",
       "    <tr>\n",
       "      <th>1</th>\n",
       "      <td>Yes</td>\n",
       "      <td>No</td>\n",
       "      <td>Banashankari</td>\n",
       "      <td>Chinese, North Indian, Thai</td>\n",
       "      <td>Buffet</td>\n",
       "      <td>Banashankari</td>\n",
       "    </tr>\n",
       "  </tbody>\n",
       "</table>\n",
       "</div>"
      ],
      "text/plain": [
       "  online_order book_table      location                        cuisines  \\\n",
       "0          Yes        Yes  Banashankari  North Indian, Mughlai, Chinese   \n",
       "1          Yes         No  Banashankari     Chinese, North Indian, Thai   \n",
       "\n",
       "  listed_in(type) listed_in(city)  \n",
       "0          Buffet    Banashankari  \n",
       "1          Buffet    Banashankari  "
      ]
     },
     "execution_count": 22,
     "metadata": {},
     "output_type": "execute_result"
    }
   ],
   "source": [
    "cat = df.select_dtypes(exclude=np.number)\n",
    "cat.head(2)"
   ]
  },
  {
   "cell_type": "code",
   "execution_count": 23,
   "id": "bc4ccfa0",
   "metadata": {},
   "outputs": [
    {
     "data": {
      "image/png": "[encoded data removed]",
      "text/plain": [
       "<Figure size 1080x1080 with 3 Axes>"
      ]
     },
     "metadata": {
      "needs_background": "light"
     },
     "output_type": "display_data"
    }
   ],
   "source": [
    "cols=num.columns\n",
    "fig,ax=plt.subplots(3,1,figsize=(15,15))\n",
    "\n",
    "for i, subplot in zip(cols, ax.flatten()):\n",
    "    sns.histplot(df[i],ax=subplot)\n",
    "    plt.title('df[i]')\n",
    "plt.tight_layout()\n",
    "plt.show()\n"
   ]
  },
  {
   "cell_type": "code",
   "execution_count": 24,
   "id": "57b2db54",
   "metadata": {},
   "outputs": [
    {
     "data": {
      "image/png": "[encoded data removed]",
      "text/plain": [
       "<Figure size 1080x1080 with 3 Axes>"
      ]
     },
     "metadata": {
      "needs_background": "light"
     },
     "output_type": "display_data"
    }
   ],
   "source": [
    "fig,ax=plt.subplots(3,1,figsize=(15,15))\n",
    "\n",
    "for i, subplot in zip(cols, ax.flatten()):\n",
    "    sns.boxplot(df[i],ax=subplot)\n",
    "    plt.title('df[i]')\n",
    "plt.tight_layout()\n",
    "plt.show()\n"
   ]
  },
  {
   "cell_type": "code",
   "execution_count": 25,
   "id": "90762c98",
   "metadata": {},
   "outputs": [
    {
     "data": {
      "image/png": "[encoded data removed]",
      "text/plain": [
       "<Figure size 1800x1080 with 3 Axes>"
      ]
     },
     "metadata": {
      "needs_background": "light"
     },
     "output_type": "display_data"
    }
   ],
   "source": [
    "fig, ax= plt.subplots(3,1, figsize=(25,15))\n",
    "\n",
    "for i, subplot in zip(cols, ax.flatten()):\n",
    "    sns.scatterplot(df[i],df['approx_cost(for two people)'], ax=subplot,color='purple')\n",
    "    plt.title('df[i]')\n",
    "\n",
    "plt.tight_layout()\n",
    "plt.show()"
   ]
  },
  {
   "cell_type": "code",
   "execution_count": 26,
   "id": "971c4156",
   "metadata": {},
   "outputs": [
    {
     "data": {
      "image/png": "[encoded data removed]",
      "text/plain": [
       "<Figure size 432x288 with 2 Axes>"
      ]
     },
     "metadata": {
      "needs_background": "light"
     },
     "output_type": "display_data"
    }
   ],
   "source": [
    "sns.heatmap(df.corr(),annot=True,cmap=\"plasma\")\n",
    "plt.show()"
   ]
  },
  {
   "cell_type": "markdown",
   "id": "d9389179",
   "metadata": {},
   "source": [
    "### 2.2.Outliers"
   ]
  },
  {
   "cell_type": "raw",
   "id": "0edbe9f2",
   "metadata": {},
   "source": [
    "q1=df.quantile(0.25)\n",
    "q3=df.quantile(0.75)\n",
    "iqr=q3-q1\n",
    "lower=q1-(1.5*iqr)\n",
    "upper=q3+(1.5*iqr)\n",
    "df=df[~((df<lower)|(df>upper)).any(axis=1)]\n",
    "df.shape"
   ]
  },
  {
   "cell_type": "raw",
   "id": "4130801a",
   "metadata": {},
   "source": [
    "df = df.reset_index(drop=True)\n",
    "df.head()\n"
   ]
  },
  {
   "cell_type": "markdown",
   "id": "74e6b1d5",
   "metadata": {},
   "source": [
    "### 2.3.Encoding"
   ]
  },
  {
   "cell_type": "code",
   "execution_count": 27,
   "id": "2b4058f0",
   "metadata": {},
   "outputs": [
    {
     "data": {
      "text/html": [
       "<div>\n",
       "<style scoped>\n",
       "    .dataframe tbody tr th:only-of-type {\n",
       "        vertical-align: middle;\n",
       "    }\n",
       "\n",
       "    .dataframe tbody tr th {\n",
       "        vertical-align: top;\n",
       "    }\n",
       "\n",
       "    .dataframe thead th {\n",
       "        text-align: right;\n",
       "    }\n",
       "</style>\n",
       "<table border=\"1\" class=\"dataframe\">\n",
       "  <thead>\n",
       "    <tr style=\"text-align: right;\">\n",
       "      <th></th>\n",
       "      <th>online_order</th>\n",
       "      <th>book_table</th>\n",
       "      <th>rate</th>\n",
       "      <th>votes</th>\n",
       "      <th>location</th>\n",
       "      <th>cuisines</th>\n",
       "      <th>approx_cost(for two people)</th>\n",
       "      <th>listed_in(type)</th>\n",
       "      <th>listed_in(city)</th>\n",
       "      <th>cusisines Afghan</th>\n",
       "      <th>...</th>\n",
       "      <th>location Wilson Garden</th>\n",
       "      <th>location Yelahanka</th>\n",
       "      <th>location Yeshwantpur</th>\n",
       "      <th>listed_in(type) Buffet</th>\n",
       "      <th>listed_in(type) Cafes</th>\n",
       "      <th>listed_in(type) Delivery</th>\n",
       "      <th>listed_in(type) Desserts</th>\n",
       "      <th>listed_in(type) Dine-out</th>\n",
       "      <th>listed_in(type) Drinks &amp; nightlife</th>\n",
       "      <th>listed_in(type) Pubs and bars</th>\n",
       "    </tr>\n",
       "  </thead>\n",
       "  <tbody>\n",
       "    <tr>\n",
       "      <th>0</th>\n",
       "      <td>Yes</td>\n",
       "      <td>Yes</td>\n",
       "      <td>4.1</td>\n",
       "      <td>775</td>\n",
       "      <td>Banashankari</td>\n",
       "      <td>North Indian, Mughlai, Chinese</td>\n",
       "      <td>800.0</td>\n",
       "      <td>Buffet</td>\n",
       "      <td>Banashankari</td>\n",
       "      <td>0</td>\n",
       "      <td>...</td>\n",
       "      <td>0</td>\n",
       "      <td>0</td>\n",
       "      <td>0</td>\n",
       "      <td>1</td>\n",
       "      <td>0</td>\n",
       "      <td>0</td>\n",
       "      <td>0</td>\n",
       "      <td>0</td>\n",
       "      <td>0</td>\n",
       "      <td>0</td>\n",
       "    </tr>\n",
       "    <tr>\n",
       "      <th>1</th>\n",
       "      <td>Yes</td>\n",
       "      <td>No</td>\n",
       "      <td>4.1</td>\n",
       "      <td>787</td>\n",
       "      <td>Banashankari</td>\n",
       "      <td>Chinese, North Indian, Thai</td>\n",
       "      <td>800.0</td>\n",
       "      <td>Buffet</td>\n",
       "      <td>Banashankari</td>\n",
       "      <td>0</td>\n",
       "      <td>...</td>\n",
       "      <td>0</td>\n",
       "      <td>0</td>\n",
       "      <td>0</td>\n",
       "      <td>1</td>\n",
       "      <td>0</td>\n",
       "      <td>0</td>\n",
       "      <td>0</td>\n",
       "      <td>0</td>\n",
       "      <td>0</td>\n",
       "      <td>0</td>\n",
       "    </tr>\n",
       "  </tbody>\n",
       "</table>\n",
       "<p>2 rows × 216 columns</p>\n",
       "</div>"
      ],
      "text/plain": [
       "  online_order book_table  rate  votes      location  \\\n",
       "0          Yes        Yes   4.1    775  Banashankari   \n",
       "1          Yes         No   4.1    787  Banashankari   \n",
       "\n",
       "                         cuisines  approx_cost(for two people)  \\\n",
       "0  North Indian, Mughlai, Chinese                        800.0   \n",
       "1     Chinese, North Indian, Thai                        800.0   \n",
       "\n",
       "  listed_in(type) listed_in(city)  cusisines Afghan  ...  \\\n",
       "0          Buffet    Banashankari                 0  ...   \n",
       "1          Buffet    Banashankari                 0  ...   \n",
       "\n",
       "   location Wilson Garden  location Yelahanka  location Yeshwantpur  \\\n",
       "0                       0                   0                     0   \n",
       "1                       0                   0                     0   \n",
       "\n",
       "   listed_in(type) Buffet  listed_in(type) Cafes  listed_in(type) Delivery  \\\n",
       "0                       1                      0                         0   \n",
       "1                       1                      0                         0   \n",
       "\n",
       "   listed_in(type) Desserts  listed_in(type) Dine-out  \\\n",
       "0                         0                         0   \n",
       "1                         0                         0   \n",
       "\n",
       "   listed_in(type) Drinks & nightlife  listed_in(type) Pubs and bars  \n",
       "0                                   0                              0  \n",
       "1                                   0                              0  \n",
       "\n",
       "[2 rows x 216 columns]"
      ]
     },
     "execution_count": 27,
     "metadata": {},
     "output_type": "execute_result"
    }
   ],
   "source": [
    "#df1=df['rest_type'].str.get_dummies(sep=', ').add_prefix('rest_type ')\n",
    "df2=df['cuisines'].str.get_dummies(sep=', ').add_prefix('cusisines ')\n",
    "df3=df['location'].str.get_dummies(sep=', ').add_prefix('location ')\n",
    "df4=df['listed_in(type)'].str.get_dummies(sep=', ').add_prefix('listed_in(type) ')\n",
    "df=pd.concat([df,df2,df3,df4],axis=1)\n",
    "df.head(2)"
   ]
  },
  {
   "cell_type": "code",
   "execution_count": 28,
   "id": "48931460",
   "metadata": {},
   "outputs": [],
   "source": [
    "df=df.drop(['cuisines','location','listed_in(type)'],axis=1)"
   ]
  },
  {
   "cell_type": "code",
   "execution_count": 29,
   "id": "d62c4869",
   "metadata": {},
   "outputs": [],
   "source": [
    "df['online_order']=df['online_order'].apply(lambda x: 1 if x=='Yes' else 0)\n",
    "df['book_table']=df['online_order'].apply(lambda x: 1 if x=='Yes' else 0)"
   ]
  },
  {
   "cell_type": "code",
   "execution_count": 30,
   "id": "a3ebae97",
   "metadata": {},
   "outputs": [
    {
     "data": {
      "text/html": [
       "<div>\n",
       "<style scoped>\n",
       "    .dataframe tbody tr th:only-of-type {\n",
       "        vertical-align: middle;\n",
       "    }\n",
       "\n",
       "    .dataframe tbody tr th {\n",
       "        vertical-align: top;\n",
       "    }\n",
       "\n",
       "    .dataframe thead th {\n",
       "        text-align: right;\n",
       "    }\n",
       "</style>\n",
       "<table border=\"1\" class=\"dataframe\">\n",
       "  <thead>\n",
       "    <tr style=\"text-align: right;\">\n",
       "      <th></th>\n",
       "      <th>online_order</th>\n",
       "      <th>book_table</th>\n",
       "      <th>rate</th>\n",
       "      <th>votes</th>\n",
       "      <th>approx_cost(for two people)</th>\n",
       "      <th>listed_in(city)</th>\n",
       "      <th>cusisines Afghan</th>\n",
       "      <th>cusisines Afghani</th>\n",
       "      <th>cusisines African</th>\n",
       "      <th>cusisines American</th>\n",
       "      <th>...</th>\n",
       "      <th>location Wilson Garden</th>\n",
       "      <th>location Yelahanka</th>\n",
       "      <th>location Yeshwantpur</th>\n",
       "      <th>listed_in(type) Buffet</th>\n",
       "      <th>listed_in(type) Cafes</th>\n",
       "      <th>listed_in(type) Delivery</th>\n",
       "      <th>listed_in(type) Desserts</th>\n",
       "      <th>listed_in(type) Dine-out</th>\n",
       "      <th>listed_in(type) Drinks &amp; nightlife</th>\n",
       "      <th>listed_in(type) Pubs and bars</th>\n",
       "    </tr>\n",
       "  </thead>\n",
       "  <tbody>\n",
       "    <tr>\n",
       "      <th>0</th>\n",
       "      <td>1</td>\n",
       "      <td>0</td>\n",
       "      <td>4.1</td>\n",
       "      <td>775</td>\n",
       "      <td>800.0</td>\n",
       "      <td>Banashankari</td>\n",
       "      <td>0</td>\n",
       "      <td>0</td>\n",
       "      <td>0</td>\n",
       "      <td>0</td>\n",
       "      <td>...</td>\n",
       "      <td>0</td>\n",
       "      <td>0</td>\n",
       "      <td>0</td>\n",
       "      <td>1</td>\n",
       "      <td>0</td>\n",
       "      <td>0</td>\n",
       "      <td>0</td>\n",
       "      <td>0</td>\n",
       "      <td>0</td>\n",
       "      <td>0</td>\n",
       "    </tr>\n",
       "    <tr>\n",
       "      <th>1</th>\n",
       "      <td>1</td>\n",
       "      <td>0</td>\n",
       "      <td>4.1</td>\n",
       "      <td>787</td>\n",
       "      <td>800.0</td>\n",
       "      <td>Banashankari</td>\n",
       "      <td>0</td>\n",
       "      <td>0</td>\n",
       "      <td>0</td>\n",
       "      <td>0</td>\n",
       "      <td>...</td>\n",
       "      <td>0</td>\n",
       "      <td>0</td>\n",
       "      <td>0</td>\n",
       "      <td>1</td>\n",
       "      <td>0</td>\n",
       "      <td>0</td>\n",
       "      <td>0</td>\n",
       "      <td>0</td>\n",
       "      <td>0</td>\n",
       "      <td>0</td>\n",
       "    </tr>\n",
       "  </tbody>\n",
       "</table>\n",
       "<p>2 rows × 213 columns</p>\n",
       "</div>"
      ],
      "text/plain": [
       "   online_order  book_table  rate  votes  approx_cost(for two people)  \\\n",
       "0             1           0   4.1    775                        800.0   \n",
       "1             1           0   4.1    787                        800.0   \n",
       "\n",
       "  listed_in(city)  cusisines Afghan  cusisines Afghani  cusisines African  \\\n",
       "0    Banashankari                 0                  0                  0   \n",
       "1    Banashankari                 0                  0                  0   \n",
       "\n",
       "   cusisines American  ...  location Wilson Garden  location Yelahanka  \\\n",
       "0                   0  ...                       0                   0   \n",
       "1                   0  ...                       0                   0   \n",
       "\n",
       "   location Yeshwantpur  listed_in(type) Buffet  listed_in(type) Cafes  \\\n",
       "0                     0                       1                      0   \n",
       "1                     0                       1                      0   \n",
       "\n",
       "   listed_in(type) Delivery  listed_in(type) Desserts  \\\n",
       "0                         0                         0   \n",
       "1                         0                         0   \n",
       "\n",
       "   listed_in(type) Dine-out  listed_in(type) Drinks & nightlife  \\\n",
       "0                         0                                   0   \n",
       "1                         0                                   0   \n",
       "\n",
       "   listed_in(type) Pubs and bars  \n",
       "0                              0  \n",
       "1                              0  \n",
       "\n",
       "[2 rows x 213 columns]"
      ]
     },
     "execution_count": 30,
     "metadata": {},
     "output_type": "execute_result"
    }
   ],
   "source": [
    "df.head(2)"
   ]
  },
  {
   "cell_type": "code",
   "execution_count": 31,
   "id": "629dbfe3",
   "metadata": {},
   "outputs": [
    {
     "data": {
      "text/html": [
       "<div>\n",
       "<style scoped>\n",
       "    .dataframe tbody tr th:only-of-type {\n",
       "        vertical-align: middle;\n",
       "    }\n",
       "\n",
       "    .dataframe tbody tr th {\n",
       "        vertical-align: top;\n",
       "    }\n",
       "\n",
       "    .dataframe thead th {\n",
       "        text-align: right;\n",
       "    }\n",
       "</style>\n",
       "<table border=\"1\" class=\"dataframe\">\n",
       "  <thead>\n",
       "    <tr style=\"text-align: right;\">\n",
       "      <th></th>\n",
       "      <th>online_order</th>\n",
       "      <th>book_table</th>\n",
       "      <th>rate</th>\n",
       "      <th>votes</th>\n",
       "      <th>approx_cost(for two people)</th>\n",
       "      <th>cusisines Afghan</th>\n",
       "      <th>cusisines Afghani</th>\n",
       "      <th>cusisines African</th>\n",
       "      <th>cusisines American</th>\n",
       "      <th>cusisines Andhra</th>\n",
       "      <th>...</th>\n",
       "      <th>listed_in(city)_Lavelle Road</th>\n",
       "      <th>listed_in(city)_MG Road</th>\n",
       "      <th>listed_in(city)_Malleshwaram</th>\n",
       "      <th>listed_in(city)_Marathahalli</th>\n",
       "      <th>listed_in(city)_New BEL Road</th>\n",
       "      <th>listed_in(city)_Old Airport Road</th>\n",
       "      <th>listed_in(city)_Rajajinagar</th>\n",
       "      <th>listed_in(city)_Residency Road</th>\n",
       "      <th>listed_in(city)_Sarjapur Road</th>\n",
       "      <th>listed_in(city)_Whitefield</th>\n",
       "    </tr>\n",
       "  </thead>\n",
       "  <tbody>\n",
       "    <tr>\n",
       "      <th>0</th>\n",
       "      <td>1</td>\n",
       "      <td>0</td>\n",
       "      <td>4.1</td>\n",
       "      <td>775</td>\n",
       "      <td>800.0</td>\n",
       "      <td>0</td>\n",
       "      <td>0</td>\n",
       "      <td>0</td>\n",
       "      <td>0</td>\n",
       "      <td>0</td>\n",
       "      <td>...</td>\n",
       "      <td>0</td>\n",
       "      <td>0</td>\n",
       "      <td>0</td>\n",
       "      <td>0</td>\n",
       "      <td>0</td>\n",
       "      <td>0</td>\n",
       "      <td>0</td>\n",
       "      <td>0</td>\n",
       "      <td>0</td>\n",
       "      <td>0</td>\n",
       "    </tr>\n",
       "    <tr>\n",
       "      <th>1</th>\n",
       "      <td>1</td>\n",
       "      <td>0</td>\n",
       "      <td>4.1</td>\n",
       "      <td>787</td>\n",
       "      <td>800.0</td>\n",
       "      <td>0</td>\n",
       "      <td>0</td>\n",
       "      <td>0</td>\n",
       "      <td>0</td>\n",
       "      <td>0</td>\n",
       "      <td>...</td>\n",
       "      <td>0</td>\n",
       "      <td>0</td>\n",
       "      <td>0</td>\n",
       "      <td>0</td>\n",
       "      <td>0</td>\n",
       "      <td>0</td>\n",
       "      <td>0</td>\n",
       "      <td>0</td>\n",
       "      <td>0</td>\n",
       "      <td>0</td>\n",
       "    </tr>\n",
       "    <tr>\n",
       "      <th>2</th>\n",
       "      <td>1</td>\n",
       "      <td>0</td>\n",
       "      <td>3.8</td>\n",
       "      <td>918</td>\n",
       "      <td>800.0</td>\n",
       "      <td>0</td>\n",
       "      <td>0</td>\n",
       "      <td>0</td>\n",
       "      <td>0</td>\n",
       "      <td>0</td>\n",
       "      <td>...</td>\n",
       "      <td>0</td>\n",
       "      <td>0</td>\n",
       "      <td>0</td>\n",
       "      <td>0</td>\n",
       "      <td>0</td>\n",
       "      <td>0</td>\n",
       "      <td>0</td>\n",
       "      <td>0</td>\n",
       "      <td>0</td>\n",
       "      <td>0</td>\n",
       "    </tr>\n",
       "    <tr>\n",
       "      <th>3</th>\n",
       "      <td>0</td>\n",
       "      <td>0</td>\n",
       "      <td>3.7</td>\n",
       "      <td>88</td>\n",
       "      <td>300.0</td>\n",
       "      <td>0</td>\n",
       "      <td>0</td>\n",
       "      <td>0</td>\n",
       "      <td>0</td>\n",
       "      <td>0</td>\n",
       "      <td>...</td>\n",
       "      <td>0</td>\n",
       "      <td>0</td>\n",
       "      <td>0</td>\n",
       "      <td>0</td>\n",
       "      <td>0</td>\n",
       "      <td>0</td>\n",
       "      <td>0</td>\n",
       "      <td>0</td>\n",
       "      <td>0</td>\n",
       "      <td>0</td>\n",
       "    </tr>\n",
       "    <tr>\n",
       "      <th>4</th>\n",
       "      <td>0</td>\n",
       "      <td>0</td>\n",
       "      <td>3.8</td>\n",
       "      <td>166</td>\n",
       "      <td>600.0</td>\n",
       "      <td>0</td>\n",
       "      <td>0</td>\n",
       "      <td>0</td>\n",
       "      <td>0</td>\n",
       "      <td>0</td>\n",
       "      <td>...</td>\n",
       "      <td>0</td>\n",
       "      <td>0</td>\n",
       "      <td>0</td>\n",
       "      <td>0</td>\n",
       "      <td>0</td>\n",
       "      <td>0</td>\n",
       "      <td>0</td>\n",
       "      <td>0</td>\n",
       "      <td>0</td>\n",
       "      <td>0</td>\n",
       "    </tr>\n",
       "  </tbody>\n",
       "</table>\n",
       "<p>5 rows × 241 columns</p>\n",
       "</div>"
      ],
      "text/plain": [
       "   online_order  book_table  rate  votes  approx_cost(for two people)  \\\n",
       "0             1           0   4.1    775                        800.0   \n",
       "1             1           0   4.1    787                        800.0   \n",
       "2             1           0   3.8    918                        800.0   \n",
       "3             0           0   3.7     88                        300.0   \n",
       "4             0           0   3.8    166                        600.0   \n",
       "\n",
       "   cusisines Afghan  cusisines Afghani  cusisines African  cusisines American  \\\n",
       "0                 0                  0                  0                   0   \n",
       "1                 0                  0                  0                   0   \n",
       "2                 0                  0                  0                   0   \n",
       "3                 0                  0                  0                   0   \n",
       "4                 0                  0                  0                   0   \n",
       "\n",
       "   cusisines Andhra  ...  listed_in(city)_Lavelle Road  \\\n",
       "0                 0  ...                             0   \n",
       "1                 0  ...                             0   \n",
       "2                 0  ...                             0   \n",
       "3                 0  ...                             0   \n",
       "4                 0  ...                             0   \n",
       "\n",
       "   listed_in(city)_MG Road  listed_in(city)_Malleshwaram  \\\n",
       "0                        0                             0   \n",
       "1                        0                             0   \n",
       "2                        0                             0   \n",
       "3                        0                             0   \n",
       "4                        0                             0   \n",
       "\n",
       "   listed_in(city)_Marathahalli  listed_in(city)_New BEL Road  \\\n",
       "0                             0                             0   \n",
       "1                             0                             0   \n",
       "2                             0                             0   \n",
       "3                             0                             0   \n",
       "4                             0                             0   \n",
       "\n",
       "   listed_in(city)_Old Airport Road  listed_in(city)_Rajajinagar  \\\n",
       "0                                 0                            0   \n",
       "1                                 0                            0   \n",
       "2                                 0                            0   \n",
       "3                                 0                            0   \n",
       "4                                 0                            0   \n",
       "\n",
       "   listed_in(city)_Residency Road  listed_in(city)_Sarjapur Road  \\\n",
       "0                               0                              0   \n",
       "1                               0                              0   \n",
       "2                               0                              0   \n",
       "3                               0                              0   \n",
       "4                               0                              0   \n",
       "\n",
       "   listed_in(city)_Whitefield  \n",
       "0                           0  \n",
       "1                           0  \n",
       "2                           0  \n",
       "3                           0  \n",
       "4                           0  \n",
       "\n",
       "[5 rows x 241 columns]"
      ]
     },
     "execution_count": 31,
     "metadata": {},
     "output_type": "execute_result"
    }
   ],
   "source": [
    "df=pd.get_dummies(df,drop_first=True)\n",
    "df.head()"
   ]
  },
  {
   "cell_type": "code",
   "execution_count": 32,
   "id": "1649c1b8",
   "metadata": {},
   "outputs": [
    {
     "data": {
      "text/plain": [
       "online_order                          int64\n",
       "book_table                            int64\n",
       "rate                                float64\n",
       "votes                                 int64\n",
       "approx_cost(for two people)         float64\n",
       "                                     ...   \n",
       "listed_in(city)_Old Airport Road      uint8\n",
       "listed_in(city)_Rajajinagar           uint8\n",
       "listed_in(city)_Residency Road        uint8\n",
       "listed_in(city)_Sarjapur Road         uint8\n",
       "listed_in(city)_Whitefield            uint8\n",
       "Length: 241, dtype: object"
      ]
     },
     "execution_count": 32,
     "metadata": {},
     "output_type": "execute_result"
    }
   ],
   "source": [
    "df.dtypes"
   ]
  },
  {
   "cell_type": "code",
   "execution_count": 33,
   "id": "7c3e8d7e",
   "metadata": {},
   "outputs": [
    {
     "data": {
      "text/plain": [
       "(50812, 241)"
      ]
     },
     "execution_count": 33,
     "metadata": {},
     "output_type": "execute_result"
    }
   ],
   "source": [
    "df.shape"
   ]
  },
  {
   "cell_type": "markdown",
   "id": "3f5f8e6c",
   "metadata": {},
   "source": [
    "## 3.Model Building"
   ]
  },
  {
   "cell_type": "markdown",
   "id": "49dc05ee",
   "metadata": {},
   "source": [
    "### Train-Test-Split"
   ]
  },
  {
   "cell_type": "code",
   "execution_count": 34,
   "id": "5086666a",
   "metadata": {},
   "outputs": [],
   "source": [
    "X=df.drop('approx_cost(for two people)',axis=1)\n",
    "y=df['approx_cost(for two people)']"
   ]
  },
  {
   "cell_type": "code",
   "execution_count": 35,
   "id": "90b42308",
   "metadata": {},
   "outputs": [
    {
     "name": "stdout",
     "output_type": "stream",
     "text": [
      "(40649, 240)\n",
      "(10163, 240)\n",
      "(40649,)\n",
      "(10163,)\n"
     ]
    }
   ],
   "source": [
    "from sklearn.model_selection import train_test_split\n",
    "xtrain,xtest,ytrain,ytest=train_test_split(X,y,test_size=0.2,random_state=42)\n",
    "print(xtrain.shape)\n",
    "print(xtest.shape)\n",
    "print(ytrain.shape)\n",
    "print(ytest.shape)"
   ]
  },
  {
   "cell_type": "markdown",
   "id": "c3d3f196",
   "metadata": {},
   "source": [
    "### 3.1.Linear Regression"
   ]
  },
  {
   "cell_type": "code",
   "execution_count": 36,
   "id": "740ab1f1",
   "metadata": {},
   "outputs": [],
   "source": [
    "from sklearn.linear_model import LinearRegression\n",
    "lr=LinearRegression()\n",
    "model=lr.fit(xtrain,ytrain)\n",
    "ypred_train=model.predict(xtrain)\n",
    "ypred=model.predict(xtest)"
   ]
  },
  {
   "cell_type": "code",
   "execution_count": 37,
   "id": "e3fbf8d0",
   "metadata": {},
   "outputs": [
    {
     "name": "stdout",
     "output_type": "stream",
     "text": [
      "0.5738236085121329\n",
      "-155.92351656546242\n"
     ]
    }
   ],
   "source": [
    "from sklearn.metrics import accuracy_score,mean_absolute_error,mean_squared_error,r2_score\n",
    "print(r2_score(ytrain,ypred_train))\n",
    "print(r2_score(ytest,ypred))"
   ]
  },
  {
   "cell_type": "markdown",
   "id": "640441fc",
   "metadata": {},
   "source": [
    "### 3.2.Lasso (Regularization technique 1)"
   ]
  },
  {
   "cell_type": "code",
   "execution_count": 39,
   "id": "9f6e2861",
   "metadata": {},
   "outputs": [],
   "source": [
    "from sklearn.linear_model import Lasso,Ridge\n",
    "las =Lasso(alpha=0.1)\n",
    "ls_mdl = las.fit(xtrain,ytrain)\n",
    "las_pred_tr = ls_mdl.predict(xtrain)\n",
    "las_pred = ls_mdl.predict(xtest)"
   ]
  },
  {
   "cell_type": "code",
   "execution_count": 40,
   "id": "3cc19f09",
   "metadata": {},
   "outputs": [
    {
     "name": "stdout",
     "output_type": "stream",
     "text": [
      "r2 score for train : 0.5694019127912481\n",
      "r2 score for test : 0.5672194453097683\n"
     ]
    }
   ],
   "source": [
    "print('r2 score for train :',r2_score(ytrain,las_pred_tr))\n",
    "print('r2 score for test :',r2_score(ytest,las_pred))"
   ]
  },
  {
   "cell_type": "markdown",
   "id": "d4dc4912",
   "metadata": {},
   "source": [
    "###  3.3.Ridge (Regularization technique 2)"
   ]
  },
  {
   "cell_type": "code",
   "execution_count": 42,
   "id": "b068e4a0",
   "metadata": {},
   "outputs": [],
   "source": [
    "ridge = Ridge()\n",
    "rg_mdl = ridge.fit(xtrain,ytrain)\n",
    "tr_rg_pred = rg_mdl.predict(xtrain)\n",
    "pred_rg  = rg_mdl.predict(xtest)"
   ]
  },
  {
   "cell_type": "code",
   "execution_count": 43,
   "id": "ff95347d",
   "metadata": {},
   "outputs": [
    {
     "name": "stdout",
     "output_type": "stream",
     "text": [
      "r2 score for train : 0.5737099600872204\n",
      "r2 score for test : 0.5714655426669197\n"
     ]
    }
   ],
   "source": [
    "print('r2 score for train :',r2_score(ytrain,tr_rg_pred))\n",
    "print('r2 score for test :',r2_score(ytest,pred_rg))"
   ]
  },
  {
   "cell_type": "markdown",
   "id": "376ff139",
   "metadata": {},
   "source": [
    "### 3.4.Elasticnet (Regularization technique 3)"
   ]
  },
  {
   "cell_type": "code",
   "execution_count": 45,
   "id": "a64fdcb0",
   "metadata": {},
   "outputs": [],
   "source": [
    "from sklearn.linear_model import ElasticNet\n",
    "en = ElasticNet()\n",
    "mdl_en = en.fit(xtrain,ytrain)\n",
    "tr_en_pred = mdl_en.predict(xtrain)\n",
    "pred_en = mdl_en.predict(xtest)"
   ]
  },
  {
   "cell_type": "code",
   "execution_count": 46,
   "id": "a3a89a5e",
   "metadata": {},
   "outputs": [
    {
     "name": "stdout",
     "output_type": "stream",
     "text": [
      "r2 score for train : 0.2647113942425062\n",
      "r2 score for test : 0.2702675901980416\n"
     ]
    }
   ],
   "source": [
    "print('r2 score for train :',r2_score(ytrain,tr_en_pred))\n",
    "print('r2 score for test :',r2_score(ytest,pred_en))"
   ]
  },
  {
   "cell_type": "markdown",
   "id": "58987a02",
   "metadata": {},
   "source": [
    "### 3.5.Decision Tree Regressor"
   ]
  },
  {
   "cell_type": "code",
   "execution_count": 48,
   "id": "0c4b5867",
   "metadata": {},
   "outputs": [],
   "source": [
    "from sklearn.tree import DecisionTreeRegressor\n",
    "dr = DecisionTreeRegressor()\n",
    "dr_mdl = dr.fit(xtrain,ytrain)\n",
    "tr_dr_pred = dr_mdl.predict(xtrain)\n",
    "pred_dr = dr_mdl.predict(xtest)"
   ]
  },
  {
   "cell_type": "code",
   "execution_count": 49,
   "id": "33f00e47",
   "metadata": {},
   "outputs": [
    {
     "name": "stdout",
     "output_type": "stream",
     "text": [
      "r2 score for train : 0.997216676291165\n",
      "r2 score for test : 0.9117562057636159\n"
     ]
    }
   ],
   "source": [
    "print('r2 score for train :',r2_score(ytrain,tr_dr_pred))\n",
    "print('r2 score for test :',r2_score(ytest,pred_dr))"
   ]
  },
  {
   "cell_type": "markdown",
   "id": "821f7b8e",
   "metadata": {},
   "source": [
    "### 3.6.RandomForestRegressor"
   ]
  },
  {
   "cell_type": "code",
   "execution_count": 51,
   "id": "02dea236",
   "metadata": {},
   "outputs": [],
   "source": [
    "from sklearn.ensemble import RandomForestRegressor\n",
    "rf=RandomForestRegressor()\n",
    "rf_mdl=rf.fit(xtrain,ytrain)\n",
    "tr_rf_pred = rf_mdl.predict(xtrain)\n",
    "pred_rf = rf_mdl.predict(xtest)"
   ]
  },
  {
   "cell_type": "code",
   "execution_count": 52,
   "id": "963b6975",
   "metadata": {},
   "outputs": [
    {
     "name": "stdout",
     "output_type": "stream",
     "text": [
      "r2 score for train : 0.990170823279487\n",
      "r2 score for test : 0.9413388311088561\n"
     ]
    }
   ],
   "source": [
    "print('r2 score for train :',r2_score(ytrain,tr_rf_pred))\n",
    "print('r2 score for test :',r2_score(ytest,pred_rf))"
   ]
  },
  {
   "cell_type": "markdown",
   "id": "276c6da6",
   "metadata": {},
   "source": [
    "# 4. Conclusion"
   ]
  },
  {
   "cell_type": "markdown",
   "id": "8e8f2721",
   "metadata": {},
   "source": [
    "For this project R2_score has been considered as the metric to evluate the performance of each model.\n",
    "\n",
    "Data has undergone extensive cleaning and encoding due to the presence of several varaibles which have multiple categorical elements in them. Some of the redundant columns have been removed as per the domain understanding.\n",
    "\n",
    "After performing various algorithms namely, Linear Regression, with their regularization variants of Lasso,Ridge,Elastinet, Decision Tree Regressor and Random Forest Regressor.We can see that Random Forest Regressor gave us the highest R2_score value compared to the rest of the models."
   ]
  }
 ],
 "metadata": {
  "kernelspec": {
   "display_name": "Python 3 (ipykernel)",
   "language": "python",
   "name": "python3"
  },
  "language_info": {
   "codemirror_mode": {
    "name": "ipython",
    "version": 3
   },
   "file_extension": ".py",
   "mimetype": "text/x-python",
   "name": "python",
   "nbconvert_exporter": "python",
   "pygments_lexer": "ipython3",
   "version": "3.9.12"
  }
 },
 "nbformat": 4,
 "nbformat_minor": 5
}
